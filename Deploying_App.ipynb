{
  "nbformat": 4,
  "nbformat_minor": 0,
  "metadata": {
    "colab": {
      "provenance": [],
      "authorship_tag": "ABX9TyNSb3tONgO36oo+Zd9lR9Ts",
      "include_colab_link": true
    },
    "kernelspec": {
      "name": "python3",
      "display_name": "Python 3"
    },
    "language_info": {
      "name": "python"
    }
  },
  "cells": [
    {
      "cell_type": "markdown",
      "metadata": {
        "id": "view-in-github",
        "colab_type": "text"
      },
      "source": [
        "<a href=\"https://colab.research.google.com/github/VanshMishra/IoT-based-Smart-Energy-meter-with-electricity-theft-detection-and-analysis-using-ML-Algorithm/blob/main/Deploying_App.ipynb\" target=\"_parent\"><img src=\"https://colab.research.google.com/assets/colab-badge.svg\" alt=\"Open In Colab\"/></a>"
      ]
    },
    {
      "cell_type": "code",
      "source": [
        "import numpy as np # linear algebra\n",
        "import pandas as pd # data processing\n",
        "df = pd.read_csv('household_power_consumption.txt', sep=';',\n",
        "                 parse_dates={'dt' : ['Date', 'Time']}, infer_datetime_format=True,\n",
        "                 low_memory=False, na_values=['nan','?'], index_col='dt')\n",
        "\n",
        "df.shape"
      ],
      "metadata": {
        "id": "gdUubX4W_mQT"
      },
      "execution_count": null,
      "outputs": []
    },
    {
      "cell_type": "code",
      "source": [],
      "metadata": {
        "id": "mee6OVyYg6yT"
      },
      "execution_count": null,
      "outputs": []
    },
    {
      "cell_type": "code",
      "source": [
        "df.isnull().sum()\n"
      ],
      "metadata": {
        "id": "moOClFMB_6H_"
      },
      "execution_count": null,
      "outputs": []
    },
    {
      "cell_type": "code",
      "source": [
        "df = df.fillna(df.mean())"
      ],
      "metadata": {
        "id": "IMOkA4kO__lt"
      },
      "execution_count": null,
      "outputs": []
    },
    {
      "cell_type": "code",
      "source": [
        "import matplotlib.pyplot as plt\n",
        "\n",
        "i = 1\n",
        "cols=[0, 1, 3, 4, 5, 6]\n",
        "plt.figure(figsize=(20, 10))\n",
        "for col in cols:\n",
        "    plt.subplot(len(cols), 1, i)\n",
        "    plt.plot(df.resample('M').mean().values[:, col])\n",
        "    plt.title(df.columns[col] + ' data resample over month for mean', y=0.75, loc='left')\n",
        "    i += 1\n",
        "plt.show()"
      ],
      "metadata": {
        "id": "UuN4pl6oAFTD"
      },
      "execution_count": null,
      "outputs": []
    },
    {
      "cell_type": "code",
      "source": [
        "i = 1\n",
        "cols=[0, 1, 3, 4, 5, 6]\n",
        "plt.figure(figsize=(20, 10))\n",
        "for col in cols:\n",
        "    plt.subplot(len(cols), 1, i)\n",
        "    plt.plot(df.resample('D').mean().values[:, col])\n",
        "    plt.title(df.columns[col] + ' data resample over day for mean', y=0.75, loc='center')\n",
        "    i += 1\n",
        "plt.show()"
      ],
      "metadata": {
        "id": "E8fsRYyYARCa"
      },
      "execution_count": null,
      "outputs": []
    },
    {
      "cell_type": "code",
      "source": [
        "i = 1\n",
        "cols=[0, 1, 3, 4, 5, 6]\n",
        "plt.figure(figsize=(20, 10))\n",
        "for col in cols:\n",
        "    plt.subplot(len(cols), 1, i)\n",
        "    plt.plot(df.resample('H').mean().values[:, col])\n",
        "    plt.title(df.columns[col] + ' data resample over hour for mean', y=0.75, loc='left')\n",
        "    i += 1\n",
        "plt.show()"
      ],
      "metadata": {
        "id": "pNAXRU__AY97"
      },
      "execution_count": null,
      "outputs": []
    },
    {
      "cell_type": "code",
      "source": [
        "df = df[['Global_active_power', 'Global_reactive_power', 'Voltage',\n",
        "       'Global_intensity', 'Sub_metering_2', 'Sub_metering_1','Sub_metering_3']]\n",
        "\n",
        "def series_to_supervised(data, n_in=1, n_out=1, dropnan=True):\n",
        "    n_vars = 1 if type(data) is list else data.shape[1]\n",
        "    dff = pd.DataFrame(data)\n",
        "    cols, names = list(), list()\n",
        "    for i in range(n_in, 0, -1):\n",
        "        cols.append(dff.shift(-i))\n",
        "        names += [('var%d(t-%d)' % (j+1, i)) for j in range(n_vars)]\n",
        "    for i in range(0, n_out):\n",
        "        cols.append(dff.shift(-i))\n",
        "        if i==0:\n",
        "            names += [('var%d(t)' % (j+1)) for j in range(n_vars)]\n",
        "        else:\n",
        "            names += [('var%d(t+%d)' % (j+1)) for j in range(n_vars)]\n",
        "        agg = pd.concat(cols, axis=1)\n",
        "        agg.columns = names\n",
        "        if dropnan:\n",
        "            agg.dropna(inplace=True)\n",
        "        return agg"
      ],
      "metadata": {
        "id": "BC3Q75vYAgEX"
      },
      "execution_count": null,
      "outputs": []
    },
    {
      "cell_type": "code",
      "source": [
        "df_resample = df.resample('h').mean()\n",
        "df_resample.shape\n"
      ],
      "metadata": {
        "colab": {
          "base_uri": "https://localhost:8080/"
        },
        "id": "uMZjSNH1Akq5",
        "outputId": "9da11a29-f266-472e-a919-1b1414e77f4b"
      },
      "execution_count": null,
      "outputs": [
        {
          "output_type": "execute_result",
          "data": {
            "text/plain": [
              "(5741, 7)"
            ]
          },
          "metadata": {},
          "execution_count": 12
        }
      ]
    },
    {
      "cell_type": "code",
      "source": [
        "from sklearn.preprocessing import MinMaxScaler\n",
        "\n",
        "values = df_resample.values\n",
        "scaler = MinMaxScaler(feature_range=(0, 1))\n",
        "scaled = scaler.fit_transform(values)\n",
        "reframed = series_to_supervised(scaled, 1, 1)\n",
        "r = list(range(df_resample.shape[1]+1, 2*df_resample.shape[1]))\n",
        "reframed.drop(reframed.columns[r], axis=1, inplace=True)\n",
        "reframed.head()\n",
        "\n",
        "# Data spliting into train and test data series. Only 4000 first data points are selected for traing purpose.\n",
        "values = reframed.values\n",
        "n_train_time = 4000\n",
        "train = values[:n_train_time, :]\n",
        "test = values[n_train_time:, :]\n",
        "train_x, train_y = train[:, :-1], train[:, -1]\n",
        "test_x, test_y = test[:, :-1], test[:, -1]\n",
        "train_x = train_x.reshape((train_x.shape[0], 1, train_x.shape[1]))\n",
        "test_x = test_x.reshape((test_x.shape[0], 1, test_x.shape[1]))"
      ],
      "metadata": {
        "id": "6-C6NHm6Ap88"
      },
      "execution_count": null,
      "outputs": []
    },
    {
      "cell_type": "code",
      "source": [
        "from keras.models import Sequential\n",
        "from keras.layers import LSTM\n",
        "from keras.layers import Dropout\n",
        "from keras.layers import Dense\n",
        "from sklearn.metrics import mean_squared_error,r2_score\n",
        "import matplotlib.pyplot as plt\n",
        "import numpy as np\n",
        "\n",
        "model = Sequential()\n",
        "model.add(LSTM(100, input_shape=(train_x.shape[1], train_x.shape[2])))\n",
        "model.add(Dropout(0.1))\n",
        "model.add(Dense(1))\n",
        "model.compile(loss='mean_squared_error', optimizer='adam')\n",
        "\n",
        "# Network fitting\n",
        "history = model.fit(train_x, train_y, epochs=50, batch_size=70, validation_data=(test_x, test_y), verbose=2, shuffle=False)\n",
        "\n",
        "# Loss history plot\n",
        "plt.plot(history.history['loss'])\n",
        "plt.plot(history.history['val_loss'])\n",
        "plt.title('model loss')\n",
        "plt.ylabel('loss')\n",
        "plt.xlabel('epoch')\n",
        "plt.legend(['train', 'test'], loc='upper right')\n",
        "plt.show()\n",
        "\n",
        "size = df_resample.shape[1]\n",
        "\n",
        "# Prediction test\n",
        "yhat = model.predict(test_x)\n",
        "test_x = test_x.reshape((test_x.shape[0], size))\n",
        "\n",
        "# invert scaling for prediction\n",
        "inv_yhat = np.concatenate((yhat, test_x[:, 1-size:]), axis=1)\n",
        "inv_yhat = scaler.inverse_transform(inv_yhat)\n",
        "inv_yhat = inv_yhat[:,0]\n",
        "\n",
        "# invert scaling for actual\n",
        "test_y = test_y.reshape((len(test_y), 1))\n",
        "inv_y = np.concatenate((test_y, test_x[:, 1-size:]), axis=1)\n",
        "inv_y = scaler.inverse_transform(inv_y)\n",
        "inv_y = inv_y[:,0]\n",
        "\n",
        "# calculate RMSE\n",
        "rmse = np.sqrt(mean_squared_error(inv_y, inv_yhat))\n",
        "print('Test RMSE: %.3f' % rmse)\n",
        "\n",
        "aa=[x for x in range(500)]\n",
        "plt.figure(figsize=(25,10))\n",
        "plt.plot(aa, inv_y[:500], marker='.', label=\"actual\")\n",
        "plt.plot(aa, inv_yhat[:500], 'r', label=\"prediction\")\n",
        "plt.ylabel(df.columns[0], size=15)\n",
        "plt.xlabel('Time step for first 500 hours', size=15)\n",
        "plt.legend(fontsize=15)\n",
        "plt.show()"
      ],
      "metadata": {
        "id": "x9yz1sALA2-V"
      },
      "execution_count": null,
      "outputs": []
    }
  ]
}